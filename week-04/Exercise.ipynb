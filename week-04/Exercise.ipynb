{
 "cells": [
  {
   "cell_type": "markdown",
   "metadata": {},
   "source": [
    "# List Overlap \n",
    "Write a program that returns a list that contains only the elements that are common between the lists (without duplicates). Make sure your program works on two lists of different sizes."
   ]
  },
  {
   "cell_type": "code",
   "execution_count": 5,
   "metadata": {},
   "outputs": [
    {
     "name": "stdout",
     "output_type": "stream",
     "text": [
      "[1, 2, 3, 5, 8, 13]\n"
     ]
    }
   ],
   "source": [
    "a = [1, 1, 2, 3, 5, 8, 13, 21, 34, 55, 89]\n",
    "b = [1, 2, 3, 4, 5, 6, 7, 8, 9, 10, 11, 12, 13]\n",
    "\n",
    "union = [intersec_num for intersec_num in set(a).intersection(set(b))] #set() is the function ouputs the unique array\n",
    "print(union)"
   ]
  },
  {
   "cell_type": "markdown",
   "metadata": {},
   "source": [
    "# Rock Paper Scissors\n",
    "\n",
    "Make a two-player Rock-Paper-Scissors game. (Hint: Ask for player plays (using input), compare them, print out a message of congratulations to the winner.)\n",
    "\n",
    "Remember the rules:\n",
    "\n",
    "* Rock beats scissors\n",
    "* Scissors beats paper\n",
    "* Paper beats rock"
   ]
  },
  {
   "cell_type": "code",
   "execution_count": 171,
   "metadata": {},
   "outputs": [
    {
     "name": "stdout",
     "output_type": "stream",
     "text": [
      "Enter your choice: paper\n",
      "Enter your choice: rock\n",
      "Rock won!\n"
     ]
    }
   ],
   "source": [
    "player1 = input(\"Enter your choice: \").lower()\n",
    "player2 = input(\"Enter your choice: \").lower()\n",
    "\n",
    "a = \"rock\"\n",
    "b = \"scissors\"\n",
    "c = \"paper\"\n",
    "\n",
    "if (player1 == a, player2 ==a and player2 == b, player1 ==b):\n",
    "    print(\"Rock won!\")\n",
    "elif (player1 == b and player2 == c):\n",
    "    print(\"Scissors won!\")\n",
    "elif (player1 == c, player2 == c and player2 == a, player1 == a):\n",
    "    print(\"Paper won!\")\n",
    "else:\n",
    "    print(\"Draw!\\n Rematch!\")"
   ]
  },
  {
   "cell_type": "markdown",
   "metadata": {},
   "source": [
    "# Palindrome \n",
    "\n",
    "Ask the user for a string and print out whether this string is a palindrome or not. (A palindrome is a string that reads the same forwards and backwards.)"
   ]
  },
  {
   "cell_type": "code",
   "execution_count": 13,
   "metadata": {},
   "outputs": [
    {
     "name": "stdout",
     "output_type": "stream",
     "text": [
      "Enter your text: a\n",
      "Enter the longer text!\n"
     ]
    }
   ],
   "source": [
    "input_string = input(\"Enter your text: \")\n",
    "if (len(input_string) > 2):\n",
    "    check = input_string[::-1] #reverse the string\n",
    "    if input_string == check:\n",
    "        print(f\"This {input_string} is the palindrome!\")\n",
    "    else:\n",
    "        print(f\"This {input_string} is not the palindrome\")\n",
    "else:\n",
    "    print(\"Enter the longer text!\")"
   ]
  },
  {
   "cell_type": "markdown",
   "metadata": {},
   "source": [
    "# Password Generator\n",
    "Write a password generator in Python. Be creative with how you generate passwords - strong passwords have a mix of lowercase letters, uppercase letters, numbers, and symbols. The passwords should be random.  Ask the user to input how long they want their password to be. "
   ]
  },
  {
   "cell_type": "code",
   "execution_count": 41,
   "metadata": {},
   "outputs": [
    {
     "name": "stdout",
     "output_type": "stream",
     "text": [
      "Js@0Fk*0Hn)0\n"
     ]
    }
   ],
   "source": [
    "import random\n",
    "\n",
    "upper_chars = \"ABCDEFGHIJKLMNOPQRSTUVWXYZ\"\n",
    "lower_chars = \"abcdefghijklmnopqrstuvwxyz\" \n",
    "spe_chars = \"!@#$%^&*()?\"\n",
    "num_chars = \"0123456789\"\n",
    "user_password = []\n",
    "\n",
    "while (len(user_password) < 10):\n",
    "    user_password.append(random.choice(upper_chars))\n",
    "    user_password.append(random.choice(lower_chars))\n",
    "    user_password.append(random.choice(spe_chars))\n",
    "    user_password.append(random.choice(num_chars))\n",
    "print(\"\".join(user_password))"
   ]
  },
  {
   "cell_type": "markdown",
   "metadata": {},
   "source": [
    "# Divisors Solutions\n",
    "\n",
    "Create a program that asks the user for a number and then prints out a list of all the divisors of that number. (If you don’t \n",
    "know what a divisor is, it is a number that divides evenly into another number. For example, 13 is a divisor of 26 because 26 / 13 has no remainder.)"
   ]
  },
  {
   "cell_type": "code",
   "execution_count": 51,
   "metadata": {},
   "outputs": [
    {
     "name": "stdout",
     "output_type": "stream",
     "text": [
      "Enter your number: 100000000 \n",
      "[1, 2, 4, 5, 8, 10, 16, 20, 25, 32, 40, 50, 64, 80, 100, 125, 128, 160, 200, 250, 256, 320, 400, 500, 625, 640, 800, 1000, 1250, 1280, 1600, 2000, 2500, 3125, 3200, 4000, 5000, 6250, 6400, 8000, 10000, 12500, 15625, 16000, 20000, 25000, 31250, 32000, 40000, 50000, 62500, 78125, 80000, 100000, 125000, 156250, 160000, 200000, 250000, 312500, 390625, 400000, 500000, 625000, 781250, 800000, 1000000, 1250000, 1562500, 2000000, 2500000, 3125000, 4000000, 5000000, 6250000, 10000000, 12500000, 20000000, 25000000, 50000000, 100000000]\n"
     ]
    }
   ],
   "source": [
    "input_number = int(input(\"Enter your number: \"))\n",
    "divisors = []\n",
    "\n",
    "for i in range(1, input_number+1): #start from 1 because indivisible by 0, +1 to be inclusive\n",
    "    if (input_number % i == 0):\n",
    "        divisors.append(i)\n",
    "print(divisors)"
   ]
  },
  {
   "cell_type": "markdown",
   "metadata": {},
   "source": [
    "# Missing Character\n",
    "Given a non-empty string and an int n, return a new string where the char at index n has been removed. The value of n will be a valid index of a char in the original string (i.e. n will be in the range 0..len(str)-1 inclusive).\n",
    "\n",
    "```\n",
    "missing_char('kitten', 1) → 'ktten'\n",
    "missing_char('kitten', 0) → 'itten'\n",
    "missing_char('kitten', 4) → 'kittn'\n",
    "\n",
    "```"
   ]
  },
  {
   "cell_type": "code",
   "execution_count": 170,
   "metadata": {},
   "outputs": [
    {
     "name": "stdout",
     "output_type": "stream",
     "text": [
      "kitte\n"
     ]
    }
   ],
   "source": [
    "def missing_char(word, n):\n",
    "    if n > len(word)-1: #len(word) = 6(numbers of characters of the word)\n",
    "        print(\"Enter the valid index!\")\n",
    "    else:\n",
    "        for i in range(len(word)): #range(len(word)) is range from 0 to 5 (the last character)\n",
    "            if i == n :\n",
    "                print(word.replace(word[n],\"\")) #word[n] is the character in word with index n \n",
    "missing_char('kitten',5)"
   ]
  },
  {
   "cell_type": "markdown",
   "metadata": {},
   "source": [
    "# Centered Average\n",
    "\n",
    "Return the \"centered\" average of an array of ints, which we'll say is the mean average of the values, except ignoring the largest and smallest values in the array. If there are multiple copies of the smallest value, ignore just one copy, and likewise for the largest value.  You may assume that the array is length 3 or more and will never contain negative values. \n",
    "* Round your answer to the nearest whole number.\n",
    "\n",
    "```\n",
    "centered_average([1, 2, 3, 4, 100]) → 3\n",
    "centered_average([1, 1, 5, 5, 10, 8, 7]) → 5\n",
    "```"
   ]
  },
  {
   "cell_type": "code",
   "execution_count": 7,
   "metadata": {},
   "outputs": [
    {
     "name": "stdout",
     "output_type": "stream",
     "text": [
      "The Centered Average is 5\n"
     ]
    }
   ],
   "source": [
    "input_list = [1, 1, 5, 5, 10, 8, 7]\n",
    "example_list = [100, 100, 50, 75, 50, 25, 25, 25]\n",
    "sum= 0\n",
    "for i in input_list:\n",
    "    sum += i\n",
    "print(f\"The Centered Average is {round(sum/len(input_list))}\")  "
   ]
  },
  {
   "cell_type": "code",
   "execution_count": 2,
   "metadata": {},
   "outputs": [
    {
     "name": "stdout",
     "output_type": "stream",
     "text": [
      "The Centered Average is 54\n"
     ]
    }
   ],
   "source": [
    "def centered_average(input_list):\n",
    "    input_list.sort()\n",
    "    input_list.remove(input_list[0])\n",
    "    input_list.pop()\n",
    "    sum = 0\n",
    "    for i in input_list:\n",
    "        sum += i\n",
    "    print(f\"The Centered Average is {round(sum/len(input_list))}\")\n",
    "user_list = [100, 100, 50, 75, 50, 25, 25, 25] \n",
    "centered_average(user_list)"
   ]
  }
 ],
 "metadata": {
  "kernelspec": {
   "display_name": "Python 3 (ipykernel)",
   "language": "python",
   "name": "python3"
  },
  "language_info": {
   "codemirror_mode": {
    "name": "ipython",
    "version": 3
   },
   "file_extension": ".py",
   "mimetype": "text/x-python",
   "name": "python",
   "nbconvert_exporter": "python",
   "pygments_lexer": "ipython3",
   "version": "3.9.12"
  }
 },
 "nbformat": 4,
 "nbformat_minor": 4
}
